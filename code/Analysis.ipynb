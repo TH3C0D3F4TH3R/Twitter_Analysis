{
 "cells": [
  {
   "cell_type": "markdown",
   "metadata": {},
   "source": [
    "### Twitter Data Analysis\n"
   ]
  },
  {
   "cell_type": "raw",
   "metadata": {},
   "source": [
    "Analyze the type of tweets: word counts. Can include sentiment also?\n",
    "Words used by customer : word counts\n",
    "sentiments asociated with tweet: sentiment analysis.can be looked during festival season and other times\n",
    "evolution of tweet over quarters: How customer tweets have evolved over time. Word count over time, sentiment over time\n",
    "How people are reacting to amazon great indian festivals? Sentiment and word count during festivaland other times. tweet similarity?\n",
    "\n",
    "Can we do before covid, during covid analysis?\n",
    "\n",
    "Final analysis:\n",
    "1 Word count\n",
    "2 Tokenization/Lemmetisation\n",
    "3 N-grams\n",
    "4sentiment analysis\n"
   ]
  },
  {
   "cell_type": "code",
   "execution_count": 41,
   "metadata": {},
   "outputs": [],
   "source": [
    "import os\n",
    "from fnmatch import fnmatch\n",
    "import pandas as pd\n",
    "import numpy as np\n",
    "import nltk\n",
    "import seaborn as sns\n",
    "import spacy\n",
    "import glob\n",
    "import string\n",
    "import matplotlib.pyplot as plt\n",
    "from sklearn.feature_extraction.text import CountVectorizer, TfidfTransformer\n",
    "import datetime\n",
    "import re\n",
    "from nltk.corpus import stopwords\n",
    "from nltk.stem.wordnet import WordNetLemmatizer\n",
    "from textblob import TextBlob\n",
    "import itertools\n",
    "import collections"
   ]
  },
  {
   "cell_type": "code",
   "execution_count": 42,
   "metadata": {},
   "outputs": [],
   "source": [
    "import networkx\n",
    "\n",
    "import warnings\n",
    "warnings.filterwarnings(\"ignore\")\n",
    "\n",
    "sns.set(font_scale=1.5)\n",
    "sns.set_style(\"whitegrid\")"
   ]
  },
  {
   "cell_type": "code",
   "execution_count": 3,
   "metadata": {},
   "outputs": [],
   "source": [
    "filename=[]\n",
    "root = '../data/'\n",
    "pattern = \"*.csv\"\n",
    "\n",
    "for path, subdirs, files in os.walk(root):\n",
    "    for name in files:\n",
    "        if fnmatch(name, pattern):\n",
    "            filename.append(os.path.join(path, name))"
   ]
  },
  {
   "cell_type": "code",
   "execution_count": 4,
   "metadata": {},
   "outputs": [],
   "source": [
    "data = pd.concat( [ pd.read_csv(file) for file in filename ] )\n",
    "data.reset_index(inplace=True)\n"
   ]
  },
  {
   "cell_type": "code",
   "execution_count": 5,
   "metadata": {},
   "outputs": [
    {
     "data": {
      "text/html": [
       "<div>\n",
       "<style scoped>\n",
       "    .dataframe tbody tr th:only-of-type {\n",
       "        vertical-align: middle;\n",
       "    }\n",
       "\n",
       "    .dataframe tbody tr th {\n",
       "        vertical-align: top;\n",
       "    }\n",
       "\n",
       "    .dataframe thead th {\n",
       "        text-align: right;\n",
       "    }\n",
       "</style>\n",
       "<table border=\"1\" class=\"dataframe\">\n",
       "  <thead>\n",
       "    <tr style=\"text-align: right;\">\n",
       "      <th></th>\n",
       "      <th>index</th>\n",
       "      <th>date</th>\n",
       "      <th>tweet</th>\n",
       "      <th>word</th>\n",
       "    </tr>\n",
       "  </thead>\n",
       "  <tbody>\n",
       "    <tr>\n",
       "      <th>0</th>\n",
       "      <td>0</td>\n",
       "      <td>2019-01-20 23:04:24+00:00</td>\n",
       "      <td>Logitech Prodigy G213 Gaming Keyboard [50% dis...</td>\n",
       "      <td>amazonindia</td>\n",
       "    </tr>\n",
       "    <tr>\n",
       "      <th>1</th>\n",
       "      <td>1</td>\n",
       "      <td>2019-01-20 22:47:26+00:00</td>\n",
       "      <td>Can you guys (whoever's reading this) dm @/Ama...</td>\n",
       "      <td>amazonindia</td>\n",
       "    </tr>\n",
       "    <tr>\n",
       "      <th>2</th>\n",
       "      <td>2</td>\n",
       "      <td>2019-01-20 22:04:27+00:00</td>\n",
       "      <td>Artis E400M in-Ear Headphones with Mic (Black)...</td>\n",
       "      <td>amazonindia</td>\n",
       "    </tr>\n",
       "    <tr>\n",
       "      <th>3</th>\n",
       "      <td>3</td>\n",
       "      <td>2019-01-20 21:24:51+00:00</td>\n",
       "      <td>@JeffBezos called Amazon India to report an in...</td>\n",
       "      <td>amazonindia</td>\n",
       "    </tr>\n",
       "    <tr>\n",
       "      <th>4</th>\n",
       "      <td>4</td>\n",
       "      <td>2019-01-20 21:04:30+00:00</td>\n",
       "      <td>TP-Link HA100 NFC-Enabled Bluetooth Music Rece...</td>\n",
       "      <td>amazonindia</td>\n",
       "    </tr>\n",
       "  </tbody>\n",
       "</table>\n",
       "</div>"
      ],
      "text/plain": [
       "   index                       date  \\\n",
       "0      0  2019-01-20 23:04:24+00:00   \n",
       "1      1  2019-01-20 22:47:26+00:00   \n",
       "2      2  2019-01-20 22:04:27+00:00   \n",
       "3      3  2019-01-20 21:24:51+00:00   \n",
       "4      4  2019-01-20 21:04:30+00:00   \n",
       "\n",
       "                                               tweet         word  \n",
       "0  Logitech Prodigy G213 Gaming Keyboard [50% dis...  amazonindia  \n",
       "1  Can you guys (whoever's reading this) dm @/Ama...  amazonindia  \n",
       "2  Artis E400M in-Ear Headphones with Mic (Black)...  amazonindia  \n",
       "3  @JeffBezos called Amazon India to report an in...  amazonindia  \n",
       "4  TP-Link HA100 NFC-Enabled Bluetooth Music Rece...  amazonindia  "
      ]
     },
     "execution_count": 5,
     "metadata": {},
     "output_type": "execute_result"
    }
   ],
   "source": [
    "data.head()"
   ]
  },
  {
   "cell_type": "code",
   "execution_count": 6,
   "metadata": {},
   "outputs": [
    {
     "name": "stdout",
     "output_type": "stream",
     "text": [
      "<class 'pandas.core.frame.DataFrame'>\n",
      "RangeIndex: 45144 entries, 0 to 45143\n",
      "Data columns (total 4 columns):\n",
      " #   Column  Non-Null Count  Dtype \n",
      "---  ------  --------------  ----- \n",
      " 0   index   45144 non-null  int64 \n",
      " 1   date    45144 non-null  object\n",
      " 2   tweet   45143 non-null  object\n",
      " 3   word    45144 non-null  object\n",
      "dtypes: int64(1), object(3)\n",
      "memory usage: 1.4+ MB\n"
     ]
    }
   ],
   "source": [
    "data.info()"
   ]
  },
  {
   "cell_type": "code",
   "execution_count": 7,
   "metadata": {},
   "outputs": [],
   "source": [
    "data['Date'] = [datetime.datetime.fromisoformat(x).date() for x in data['date']]\n",
    "data.drop(['date','index','word'],axis=1,inplace=True)"
   ]
  },
  {
   "cell_type": "code",
   "execution_count": 8,
   "metadata": {},
   "outputs": [
    {
     "data": {
      "text/html": [
       "<div>\n",
       "<style scoped>\n",
       "    .dataframe tbody tr th:only-of-type {\n",
       "        vertical-align: middle;\n",
       "    }\n",
       "\n",
       "    .dataframe tbody tr th {\n",
       "        vertical-align: top;\n",
       "    }\n",
       "\n",
       "    .dataframe thead th {\n",
       "        text-align: right;\n",
       "    }\n",
       "</style>\n",
       "<table border=\"1\" class=\"dataframe\">\n",
       "  <thead>\n",
       "    <tr style=\"text-align: right;\">\n",
       "      <th></th>\n",
       "      <th>tweet</th>\n",
       "      <th>Date</th>\n",
       "    </tr>\n",
       "  </thead>\n",
       "  <tbody>\n",
       "    <tr>\n",
       "      <th>0</th>\n",
       "      <td>Logitech Prodigy G213 Gaming Keyboard [50% dis...</td>\n",
       "      <td>2019-01-20</td>\n",
       "    </tr>\n",
       "    <tr>\n",
       "      <th>1</th>\n",
       "      <td>Can you guys (whoever's reading this) dm @/Ama...</td>\n",
       "      <td>2019-01-20</td>\n",
       "    </tr>\n",
       "    <tr>\n",
       "      <th>2</th>\n",
       "      <td>Artis E400M in-Ear Headphones with Mic (Black)...</td>\n",
       "      <td>2019-01-20</td>\n",
       "    </tr>\n",
       "    <tr>\n",
       "      <th>3</th>\n",
       "      <td>@JeffBezos called Amazon India to report an in...</td>\n",
       "      <td>2019-01-20</td>\n",
       "    </tr>\n",
       "    <tr>\n",
       "      <th>4</th>\n",
       "      <td>TP-Link HA100 NFC-Enabled Bluetooth Music Rece...</td>\n",
       "      <td>2019-01-20</td>\n",
       "    </tr>\n",
       "  </tbody>\n",
       "</table>\n",
       "</div>"
      ],
      "text/plain": [
       "                                               tweet        Date\n",
       "0  Logitech Prodigy G213 Gaming Keyboard [50% dis...  2019-01-20\n",
       "1  Can you guys (whoever's reading this) dm @/Ama...  2019-01-20\n",
       "2  Artis E400M in-Ear Headphones with Mic (Black)...  2019-01-20\n",
       "3  @JeffBezos called Amazon India to report an in...  2019-01-20\n",
       "4  TP-Link HA100 NFC-Enabled Bluetooth Music Rece...  2019-01-20"
      ]
     },
     "execution_count": 8,
     "metadata": {},
     "output_type": "execute_result"
    }
   ],
   "source": [
    "data.head()"
   ]
  },
  {
   "cell_type": "code",
   "execution_count": null,
   "metadata": {},
   "outputs": [],
   "source": [
    "# data['tag']=None\n",
    "# data['mention']=None\n",
    "# for i in range(data.shape[0]):\n",
    "#     try:\n",
    "#         data['tag'][i] = re.findall(r'(?<=\\W)[#]\\S*', data['tweet'][i])\n",
    "#         data['mention'][i] = re.findall(r'(?<=\\W)[@]\\S*', data['tweet'][i])\n",
    "        \n",
    "#     except TypeError:\n",
    "#         pass"
   ]
  },
  {
   "cell_type": "code",
   "execution_count": null,
   "metadata": {},
   "outputs": [],
   "source": [
    "# data['is_mention'] = None\n",
    "\n",
    "# for mention in data['mention']:\n",
    "#     if mention!=None:\n",
    "#         mention1 = [x.lower() for x in mention]\n",
    "#         r = re.compile(\".*amazon\")\n",
    "#         l = list(filter(r.match, mention1))\n",
    "#         if len(l)>0:\n",
    "#             data['is_mention'] = 1\n",
    "#         else:\n",
    "#             data['is_mention'] = 0"
   ]
  },
  {
   "cell_type": "raw",
   "metadata": {},
   "source": [
    "## Data Pre-processing\n",
    "## This process involves cleaning the tweet text by \n",
    "    lemmatization, \n",
    "    tokenization, \n",
    "    making text lowercase, \n",
    "    removing punctuations and stop words"
   ]
  },
  {
   "cell_type": "code",
   "execution_count": 31,
   "metadata": {},
   "outputs": [],
   "source": [
    "# Making text lower case\n",
    "data['tweet'] = [str(x).lower() for x in data['tweet']]\n",
    "\n",
    "#Removing stop words and punctuation, hyperlinks\n",
    "def remove_url(txt):\n",
    "    return \" \".join(re.sub(\"([^0-9A-Za-z \\t])|(\\w+:\\/\\/\\S+)\", \"\", txt).split())\n",
    "\n",
    "# def form_sentence(tweet):\n",
    "#     tweet_blob = TextBlob(tweet)\n",
    "#     return ' '.join(tweet_blob.words)\n",
    "# data['cleaned_tweets'] = [form_sentence(str(x))  for x in data['tweet']]\n",
    "\n",
    "data['tweet1'] = [remove_url(str(x)) for x in data['tweet']]"
   ]
  },
  {
   "cell_type": "code",
   "execution_count": 33,
   "metadata": {},
   "outputs": [],
   "source": [
    "words_in_tweet = [tweet.lower().split() for tweet in data['tweet1']]"
   ]
  },
  {
   "cell_type": "code",
   "execution_count": 35,
   "metadata": {},
   "outputs": [],
   "source": [
    "# words_in_tweet"
   ]
  },
  {
   "cell_type": "code",
   "execution_count": 36,
   "metadata": {},
   "outputs": [],
   "source": [
    "# def normalization(tweet_list):\n",
    "#         lem = WordNetLemmatizer()\n",
    "#         normalized_tweet = []\n",
    "#         for word in tweet_list:\n",
    "#             normalized_text = lem.lemmatize(word,'v')\n",
    "#             normalized_tweet.append(normalized_text)\n",
    "#         return normalized_tweet\n",
    "    \n",
    "# tweet_list = 'I was playing with my friends with whom I used to play, when you called me yesterday'.split()\n",
    "# print(normalization(tweet_list))"
   ]
  },
  {
   "cell_type": "code",
   "execution_count": 39,
   "metadata": {},
   "outputs": [
    {
     "data": {
      "text/plain": [
       "[('amazon', 37109),\n",
       " ('india', 24824),\n",
       " ('amazonindia', 23501),\n",
       " ('the', 15969),\n",
       " ('to', 15723),\n",
       " ('on', 13701),\n",
       " ('and', 12584),\n",
       " ('for', 9635),\n",
       " ('of', 9360),\n",
       " ('i', 9337),\n",
       " ('is', 9323),\n",
       " ('a', 8647),\n",
       " ('with', 7797),\n",
       " ('in', 7687),\n",
       " ('amazonin', 6734)]"
      ]
     },
     "execution_count": 39,
     "metadata": {},
     "output_type": "execute_result"
    }
   ],
   "source": [
    "# List of all words across tweets\n",
    "all_words_no_urls = list(itertools.chain(*words_in_tweet))\n",
    "\n",
    "# Create counter\n",
    "counts_no_urls = collections.Counter(all_words_no_urls)\n",
    "\n",
    "counts_no_urls.most_common(15)"
   ]
  },
  {
   "cell_type": "code",
   "execution_count": 43,
   "metadata": {},
   "outputs": [
    {
     "data": {
      "text/html": [
       "<div>\n",
       "<style scoped>\n",
       "    .dataframe tbody tr th:only-of-type {\n",
       "        vertical-align: middle;\n",
       "    }\n",
       "\n",
       "    .dataframe tbody tr th {\n",
       "        vertical-align: top;\n",
       "    }\n",
       "\n",
       "    .dataframe thead th {\n",
       "        text-align: right;\n",
       "    }\n",
       "</style>\n",
       "<table border=\"1\" class=\"dataframe\">\n",
       "  <thead>\n",
       "    <tr style=\"text-align: right;\">\n",
       "      <th></th>\n",
       "      <th>words</th>\n",
       "      <th>count</th>\n",
       "    </tr>\n",
       "  </thead>\n",
       "  <tbody>\n",
       "    <tr>\n",
       "      <th>0</th>\n",
       "      <td>amazon</td>\n",
       "      <td>37109</td>\n",
       "    </tr>\n",
       "    <tr>\n",
       "      <th>1</th>\n",
       "      <td>india</td>\n",
       "      <td>24824</td>\n",
       "    </tr>\n",
       "    <tr>\n",
       "      <th>2</th>\n",
       "      <td>amazonindia</td>\n",
       "      <td>23501</td>\n",
       "    </tr>\n",
       "    <tr>\n",
       "      <th>3</th>\n",
       "      <td>the</td>\n",
       "      <td>15969</td>\n",
       "    </tr>\n",
       "    <tr>\n",
       "      <th>4</th>\n",
       "      <td>to</td>\n",
       "      <td>15723</td>\n",
       "    </tr>\n",
       "  </tbody>\n",
       "</table>\n",
       "</div>"
      ],
      "text/plain": [
       "         words  count\n",
       "0       amazon  37109\n",
       "1        india  24824\n",
       "2  amazonindia  23501\n",
       "3          the  15969\n",
       "4           to  15723"
      ]
     },
     "execution_count": 43,
     "metadata": {},
     "output_type": "execute_result"
    }
   ],
   "source": [
    "clean_tweets_no_urls = pd.DataFrame(counts_no_urls.most_common(15),\n",
    "                             columns=['words', 'count'])\n",
    "\n",
    "clean_tweets_no_urls.head()"
   ]
  },
  {
   "cell_type": "code",
   "execution_count": 47,
   "metadata": {},
   "outputs": [
    {
     "data": {
      "image/png": "[encoded data removed]",
      "text/plain": [
       "<Figure size 576x576 with 1 Axes>"
      ]
     },
     "metadata": {},
     "output_type": "display_data"
    }
   ],
   "source": [
    "fig, ax = plt.subplots(figsize=(8, 8))\n",
    "\n",
    "# Plot horizontal bar graph\n",
    "clean_tweets_no_urls.sort_values(by='count').plot.barh(x='words',\n",
    "                      y='count',\n",
    "                      ax=ax,\n",
    "                      color=\"lightblue\")\n",
    "\n",
    "ax.set_title(\"Common Words Found in Tweets (Including All Words)\")\n",
    "\n",
    "plt.show()"
   ]
  },
  {
   "cell_type": "code",
   "execution_count": 48,
   "metadata": {},
   "outputs": [],
   "source": [
    "#Removing stopwords\n",
    "stop_words = set(stopwords.words('english'))"
   ]
  },
  {
   "cell_type": "code",
   "execution_count": 49,
   "metadata": {},
   "outputs": [],
   "source": [
    "tweets_nsw = [[word for word in tweet_words if not word in stop_words]\n",
    "              for tweet_words in words_in_tweet]"
   ]
  },
  {
   "cell_type": "code",
   "execution_count": 52,
   "metadata": {},
   "outputs": [
    {
     "data": {
      "text/plain": [
       "[('amazon', 37109),\n",
       " ('india', 24824),\n",
       " ('amazonindia', 23501),\n",
       " ('amazonin', 6734),\n",
       " ('discount', 5086),\n",
       " ('offer', 2956),\n",
       " ('buy', 2878),\n",
       " ('quiztimemorningswithamazon', 2825),\n",
       " ('dealsonelectronics', 2790),\n",
       " ('order', 2707),\n",
       " ('get', 2661),\n",
       " ('customer', 2446),\n",
       " ('product', 2381),\n",
       " ('flipkart', 2324),\n",
       " ('rs', 2272)]"
      ]
     },
     "execution_count": 52,
     "metadata": {},
     "output_type": "execute_result"
    }
   ],
   "source": [
    "all_words_nsw = list(itertools.chain(*tweets_nsw))\n",
    "\n",
    "counts_nsw = collections.Counter(all_words_nsw)\n",
    "\n",
    "counts_nsw.most_common(15)"
   ]
  },
  {
   "cell_type": "code",
   "execution_count": 53,
   "metadata": {},
   "outputs": [
    {
     "data": {
      "image/png": "[encoded data removed]",
      "text/plain": [
       "<Figure size 576x576 with 1 Axes>"
      ]
     },
     "metadata": {},
     "output_type": "display_data"
    }
   ],
   "source": [
    "clean_tweets_nsw = pd.DataFrame(counts_nsw.most_common(15),\n",
    "                             columns=['words', 'count'])\n",
    "\n",
    "fig, ax = plt.subplots(figsize=(8, 8))\n",
    "\n",
    "# Plot horizontal bar graph\n",
    "clean_tweets_nsw.sort_values(by='count').plot.barh(x='words',\n",
    "                      y='count',\n",
    "                      ax=ax,\n",
    "                      color=\"lightblue\")\n",
    "\n",
    "ax.set_title(\"Common Words Found in Tweets (Without Stop Words)\")\n",
    "\n",
    "plt.show()"
   ]
  },
  {
   "cell_type": "code",
   "execution_count": null,
   "metadata": {},
   "outputs": [],
   "source": []
  }
 ],
 "metadata": {
  "kernelspec": {
   "display_name": "Python 3",
   "language": "python",
   "name": "python3"
  },
  "language_info": {
   "codemirror_mode": {
    "name": "ipython",
    "version": 3
   },
   "file_extension": ".py",
   "mimetype": "text/x-python",
   "name": "python",
   "nbconvert_exporter": "python",
   "pygments_lexer": "ipython3",
   "version": "3.7.6"
  }
 },
 "nbformat": 4,
 "nbformat_minor": 4
}
