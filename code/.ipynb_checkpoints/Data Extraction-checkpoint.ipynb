{
 "cells": [
  {
   "cell_type": "code",
   "execution_count": null,
   "metadata": {},
   "outputs": [],
   "source": [
    "import GetOldTweets3 as got\n",
    "import pandas as pd\n",
    "from datetime import datetime,timedelta\n",
    "import time\n",
    "import os"
   ]
  },
  {
   "cell_type": "code",
   "execution_count": null,
   "metadata": {},
   "outputs": [],
   "source": [
    "# Define the search term and the date_since date as variables\n",
    "search_words = ['amazonindia', 'flipkart','myntra']\n",
    "SinceDate = \"2019-11-01\"\n",
    "UntilDate = \"2020-07-01\""
   ]
  },
  {
   "cell_type": "code",
   "execution_count": null,
   "metadata": {},
   "outputs": [],
   "source": [
    "since = datetime.strptime(SinceDate, '%Y-%m-%d')\n",
    "until= datetime.strptime(UntilDate, '%Y-%m-%d')\n",
    "\n",
    "One = since + timedelta(days = 20)\n",
    "Two = since + timedelta(days=40)\n",
    "Three = since + timedelta(days=60)\n",
    "Four = since + timedelta(days=80)\n",
    "Five = since + timedelta(days=100)\n",
    "Six = since + timedelta(days=120)\n",
    "Seven = since + timedelta(days=140)\n",
    "Eight = since + timedelta(days=160)\n",
    "Nine = since + timedelta(days=180)\n",
    "Ten = since + timedelta(days=200)\n",
    "Eleven = since + timedelta(days=220)\n",
    "Twelve = since + timedelta(days=240)\n",
    "Thirteen = since + timedelta(days=260)"
   ]
  },
  {
   "cell_type": "code",
   "execution_count": null,
   "metadata": {},
   "outputs": [],
   "source": [
    "data_final = pd.DataFrame(columns=['date','tweet','word'])\n",
    "day_list = [One,Two,Three,Four ,Five,Six ,Seven,Eight, Nine,Ten, Eleven, Twelve, Thirteen ]"
   ]
  },
  {
   "cell_type": "code",
   "execution_count": null,
   "metadata": {},
   "outputs": [],
   "source": [
    "cur_dir = os.getcwd()\n",
    "os.chdir('../')\n",
    "save_dir = os.getcwd()\n",
    "save_dir"
   ]
  },
  {
   "cell_type": "code",
   "execution_count": null,
   "metadata": {},
   "outputs": [],
   "source": [
    "save_dir"
   ]
  },
  {
   "cell_type": "code",
   "execution_count": null,
   "metadata": {},
   "outputs": [],
   "source": [
    "for Query in search_words:\n",
    "    for i in range(len(day_list)):\n",
    "        if i==0:\n",
    "            print ('starting first download')\n",
    "            data = got.manager.TweetCriteria().setQuerySearch(Query).setMaxTweets(10000).setSince(since.strftime('%Y-%m-%d')).setUntil(day_list[i].strftime('%Y-%m-%d'))\n",
    "            download = got.manager.TweetManager.getTweets(data)\n",
    "            firstlist=[[tweet.date, tweet.text] for tweet in download]\n",
    "\n",
    "            df_1 = pd.DataFrame.from_records(firstlist, columns = [\"date\", \"tweet\"])\n",
    "            df_1['word'] = Query\n",
    "            df=pd.concat([data_final,df_1])\n",
    "            \n",
    "            filename = save_dir + \"\\\\data\" + Query + day_list[i].strftime('%Y-%m-%d') + \".csv\"\n",
    "            df.to_csv(filename, index=None)\n",
    "            print('Sleeping for 300 seconds')\n",
    "\n",
    "            time.sleep(300)\n",
    "        else:\n",
    "            print ('starting first download')\n",
    "            data = got.manager.TweetCriteria().setQuerySearch(Query).setMaxTweets(10000).setSince(day_list[i-1].strftime('%Y-%m-%d')).setUntil(day_list[i].strftime('%Y-%m-%d'))\n",
    "\n",
    "            download = got.manager.TweetManager.getTweets(data)\n",
    "            firstlist=[[tweet.date, tweet.text] for tweet in download]\n",
    "\n",
    "            df_1 = pd.DataFrame.from_records(firstlist, columns = [\"date\", \"tweet\"])\n",
    "            df_1['word'] = Query\n",
    "            df=pd.concat([data_final,df_1])\n",
    "            \n",
    "            print(save_dir)\n",
    "            filename = save_dir + \"\\\\data\" + Query + day_list[i].strftime('%Y-%m-%d') + \".csv\"\n",
    "            df.to_csv(filename, index=None)\n",
    "            print('Sleeping for 300 seconds')\n",
    "\n",
    "            time.sleep(300)"
   ]
  },
  {
   "cell_type": "code",
   "execution_count": null,
   "metadata": {},
   "outputs": [],
   "source": []
  },
  {
   "cell_type": "code",
   "execution_count": null,
   "metadata": {},
   "outputs": [],
   "source": []
  },
  {
   "cell_type": "code",
   "execution_count": null,
   "metadata": {},
   "outputs": [],
   "source": []
  }
 ],
 "metadata": {
  "kernelspec": {
   "display_name": "Python 3",
   "language": "python",
   "name": "python3"
  },
  "language_info": {
   "codemirror_mode": {
    "name": "ipython",
    "version": 3
   },
   "file_extension": ".py",
   "mimetype": "text/x-python",
   "name": "python",
   "nbconvert_exporter": "python",
   "pygments_lexer": "ipython3",
   "version": "3.7.6"
  }
 },
 "nbformat": 4,
 "nbformat_minor": 4
}
