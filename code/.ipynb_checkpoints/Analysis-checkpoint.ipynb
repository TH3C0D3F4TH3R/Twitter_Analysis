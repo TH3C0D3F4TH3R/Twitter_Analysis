{
 "cells": [
  {
   "cell_type": "markdown",
   "metadata": {},
   "source": [
    "### Twitter Data Analysis\n"
   ]
  },
  {
   "cell_type": "raw",
   "metadata": {},
   "source": [
    "Analyze the type of tweets: word counts. Can include sentiment also?\n",
    "Words used by customer : word counts\n",
    "sentiments asociated with tweet: sentiment analysis.can be looked during festival season and other times\n",
    "evolution of tweet over quarters: How customer tweets have evolved over time. Word count over time, sentiment over time\n",
    "How people are reacting to amazon great indian festivals? Sentiment and word count during festivaland other times. tweet similarity?\n",
    "\n",
    "Can we do before covid, during covid analysis?\n",
    "\n",
    "Final analysis:\n",
    "1 Word count\n",
    "2 Tokenization/Lemmetisation\n",
    "3 N-grams\n",
    "4sentiment analysis\n"
   ]
  },
  {
   "cell_type": "code",
   "execution_count": 64,
   "metadata": {},
   "outputs": [],
   "source": [
    "import os\n",
    "from fnmatch import fnmatch\n",
    "import pandas as pd\n",
    "import numpy as np\n",
    "import nltk\n",
    "import seaborn\n",
    "import spacy\n",
    "import glob\n",
    "import string\n",
    "import matplotlib.pyplot as plt\n",
    "from sklearn.feature_extraction.text import CountVectorizer\n",
    "import datetime\n",
    "import re"
   ]
  },
  {
   "cell_type": "code",
   "execution_count": 16,
   "metadata": {},
   "outputs": [],
   "source": [
    "filename=[]\n",
    "root = '../data/'\n",
    "pattern = \"*.csv\"\n",
    "\n",
    "for path, subdirs, files in os.walk(root):\n",
    "    for name in files:\n",
    "        if fnmatch(name, pattern):\n",
    "            filename.append(os.path.join(path, name))"
   ]
  },
  {
   "cell_type": "code",
   "execution_count": 56,
   "metadata": {},
   "outputs": [],
   "source": [
    "data = pd.concat( [ pd.read_csv(file) for file in filename ] )\n",
    "data.reset_index(inplace=True)\n"
   ]
  },
  {
   "cell_type": "code",
   "execution_count": 57,
   "metadata": {},
   "outputs": [
    {
     "data": {
      "text/html": [
       "<div>\n",
       "<style scoped>\n",
       "    .dataframe tbody tr th:only-of-type {\n",
       "        vertical-align: middle;\n",
       "    }\n",
       "\n",
       "    .dataframe tbody tr th {\n",
       "        vertical-align: top;\n",
       "    }\n",
       "\n",
       "    .dataframe thead th {\n",
       "        text-align: right;\n",
       "    }\n",
       "</style>\n",
       "<table border=\"1\" class=\"dataframe\">\n",
       "  <thead>\n",
       "    <tr style=\"text-align: right;\">\n",
       "      <th></th>\n",
       "      <th>index</th>\n",
       "      <th>date</th>\n",
       "      <th>tweet</th>\n",
       "      <th>word</th>\n",
       "    </tr>\n",
       "  </thead>\n",
       "  <tbody>\n",
       "    <tr>\n",
       "      <th>0</th>\n",
       "      <td>0</td>\n",
       "      <td>2019-01-20 23:04:24+00:00</td>\n",
       "      <td>Logitech Prodigy G213 Gaming Keyboard [50% dis...</td>\n",
       "      <td>amazonindia</td>\n",
       "    </tr>\n",
       "    <tr>\n",
       "      <th>1</th>\n",
       "      <td>1</td>\n",
       "      <td>2019-01-20 22:47:26+00:00</td>\n",
       "      <td>Can you guys (whoever's reading this) dm @/Ama...</td>\n",
       "      <td>amazonindia</td>\n",
       "    </tr>\n",
       "    <tr>\n",
       "      <th>2</th>\n",
       "      <td>2</td>\n",
       "      <td>2019-01-20 22:04:27+00:00</td>\n",
       "      <td>Artis E400M in-Ear Headphones with Mic (Black)...</td>\n",
       "      <td>amazonindia</td>\n",
       "    </tr>\n",
       "    <tr>\n",
       "      <th>3</th>\n",
       "      <td>3</td>\n",
       "      <td>2019-01-20 21:24:51+00:00</td>\n",
       "      <td>@JeffBezos called Amazon India to report an in...</td>\n",
       "      <td>amazonindia</td>\n",
       "    </tr>\n",
       "    <tr>\n",
       "      <th>4</th>\n",
       "      <td>4</td>\n",
       "      <td>2019-01-20 21:04:30+00:00</td>\n",
       "      <td>TP-Link HA100 NFC-Enabled Bluetooth Music Rece...</td>\n",
       "      <td>amazonindia</td>\n",
       "    </tr>\n",
       "  </tbody>\n",
       "</table>\n",
       "</div>"
      ],
      "text/plain": [
       "   index                       date  \\\n",
       "0      0  2019-01-20 23:04:24+00:00   \n",
       "1      1  2019-01-20 22:47:26+00:00   \n",
       "2      2  2019-01-20 22:04:27+00:00   \n",
       "3      3  2019-01-20 21:24:51+00:00   \n",
       "4      4  2019-01-20 21:04:30+00:00   \n",
       "\n",
       "                                               tweet         word  \n",
       "0  Logitech Prodigy G213 Gaming Keyboard [50% dis...  amazonindia  \n",
       "1  Can you guys (whoever's reading this) dm @/Ama...  amazonindia  \n",
       "2  Artis E400M in-Ear Headphones with Mic (Black)...  amazonindia  \n",
       "3  @JeffBezos called Amazon India to report an in...  amazonindia  \n",
       "4  TP-Link HA100 NFC-Enabled Bluetooth Music Rece...  amazonindia  "
      ]
     },
     "execution_count": 57,
     "metadata": {},
     "output_type": "execute_result"
    }
   ],
   "source": [
    "data.head()"
   ]
  },
  {
   "cell_type": "code",
   "execution_count": 58,
   "metadata": {},
   "outputs": [
    {
     "name": "stdout",
     "output_type": "stream",
     "text": [
      "<class 'pandas.core.frame.DataFrame'>\n",
      "RangeIndex: 45144 entries, 0 to 45143\n",
      "Data columns (total 4 columns):\n",
      " #   Column  Non-Null Count  Dtype \n",
      "---  ------  --------------  ----- \n",
      " 0   index   45144 non-null  int64 \n",
      " 1   date    45144 non-null  object\n",
      " 2   tweet   45143 non-null  object\n",
      " 3   word    45144 non-null  object\n",
      "dtypes: int64(1), object(3)\n",
      "memory usage: 1.4+ MB\n"
     ]
    }
   ],
   "source": [
    "data.info()"
   ]
  },
  {
   "cell_type": "code",
   "execution_count": 59,
   "metadata": {},
   "outputs": [],
   "source": [
    "data['Date'] = [datetime.datetime.fromisoformat(x).date() for x in data['date']]\n",
    "data.drop(['date','index'],axis=1,inplace=True)"
   ]
  },
  {
   "cell_type": "code",
   "execution_count": 60,
   "metadata": {},
   "outputs": [
    {
     "data": {
      "text/html": [
       "<div>\n",
       "<style scoped>\n",
       "    .dataframe tbody tr th:only-of-type {\n",
       "        vertical-align: middle;\n",
       "    }\n",
       "\n",
       "    .dataframe tbody tr th {\n",
       "        vertical-align: top;\n",
       "    }\n",
       "\n",
       "    .dataframe thead th {\n",
       "        text-align: right;\n",
       "    }\n",
       "</style>\n",
       "<table border=\"1\" class=\"dataframe\">\n",
       "  <thead>\n",
       "    <tr style=\"text-align: right;\">\n",
       "      <th></th>\n",
       "      <th>tweet</th>\n",
       "      <th>word</th>\n",
       "      <th>Date</th>\n",
       "    </tr>\n",
       "  </thead>\n",
       "  <tbody>\n",
       "    <tr>\n",
       "      <th>0</th>\n",
       "      <td>Logitech Prodigy G213 Gaming Keyboard [50% dis...</td>\n",
       "      <td>amazonindia</td>\n",
       "      <td>2019-01-20</td>\n",
       "    </tr>\n",
       "    <tr>\n",
       "      <th>1</th>\n",
       "      <td>Can you guys (whoever's reading this) dm @/Ama...</td>\n",
       "      <td>amazonindia</td>\n",
       "      <td>2019-01-20</td>\n",
       "    </tr>\n",
       "    <tr>\n",
       "      <th>2</th>\n",
       "      <td>Artis E400M in-Ear Headphones with Mic (Black)...</td>\n",
       "      <td>amazonindia</td>\n",
       "      <td>2019-01-20</td>\n",
       "    </tr>\n",
       "    <tr>\n",
       "      <th>3</th>\n",
       "      <td>@JeffBezos called Amazon India to report an in...</td>\n",
       "      <td>amazonindia</td>\n",
       "      <td>2019-01-20</td>\n",
       "    </tr>\n",
       "    <tr>\n",
       "      <th>4</th>\n",
       "      <td>TP-Link HA100 NFC-Enabled Bluetooth Music Rece...</td>\n",
       "      <td>amazonindia</td>\n",
       "      <td>2019-01-20</td>\n",
       "    </tr>\n",
       "  </tbody>\n",
       "</table>\n",
       "</div>"
      ],
      "text/plain": [
       "                                               tweet         word        Date\n",
       "0  Logitech Prodigy G213 Gaming Keyboard [50% dis...  amazonindia  2019-01-20\n",
       "1  Can you guys (whoever's reading this) dm @/Ama...  amazonindia  2019-01-20\n",
       "2  Artis E400M in-Ear Headphones with Mic (Black)...  amazonindia  2019-01-20\n",
       "3  @JeffBezos called Amazon India to report an in...  amazonindia  2019-01-20\n",
       "4  TP-Link HA100 NFC-Enabled Bluetooth Music Rece...  amazonindia  2019-01-20"
      ]
     },
     "execution_count": 60,
     "metadata": {},
     "output_type": "execute_result"
    }
   ],
   "source": [
    "data.head()"
   ]
  },
  {
   "cell_type": "code",
   "execution_count": 103,
   "metadata": {},
   "outputs": [],
   "source": [
    "# print (re.findall(r'(?<=\\W)[#@]\\S*', data['tweet']))"
   ]
  },
  {
   "cell_type": "code",
   "execution_count": 100,
   "metadata": {},
   "outputs": [],
   "source": [
    "data['mentions']=None\n",
    "for i in range(data.shape[0]):\n",
    "    try:\n",
    "        data['mentions'][i] = re.findall(r'(?<=\\W)[#@]\\S*', data['tweet'][i])\n",
    "        \n",
    "    except TypeError:\n",
    "        pass"
   ]
  },
  {
   "cell_type": "code",
   "execution_count": 104,
   "metadata": {},
   "outputs": [
    {
     "data": {
      "text/html": [
       "<div>\n",
       "<style scoped>\n",
       "    .dataframe tbody tr th:only-of-type {\n",
       "        vertical-align: middle;\n",
       "    }\n",
       "\n",
       "    .dataframe tbody tr th {\n",
       "        vertical-align: top;\n",
       "    }\n",
       "\n",
       "    .dataframe thead th {\n",
       "        text-align: right;\n",
       "    }\n",
       "</style>\n",
       "<table border=\"1\" class=\"dataframe\">\n",
       "  <thead>\n",
       "    <tr style=\"text-align: right;\">\n",
       "      <th></th>\n",
       "      <th>tweet</th>\n",
       "      <th>word</th>\n",
       "      <th>Date</th>\n",
       "      <th>mentions</th>\n",
       "    </tr>\n",
       "  </thead>\n",
       "  <tbody>\n",
       "    <tr>\n",
       "      <th>0</th>\n",
       "      <td>Logitech Prodigy G213 Gaming Keyboard [50% dis...</td>\n",
       "      <td>amazonindia</td>\n",
       "      <td>2019-01-20</td>\n",
       "      <td>[#AmazonIndia, #DealsOnPC]</td>\n",
       "    </tr>\n",
       "    <tr>\n",
       "      <th>1</th>\n",
       "      <td>Can you guys (whoever's reading this) dm @/Ama...</td>\n",
       "      <td>amazonindia</td>\n",
       "      <td>2019-01-20</td>\n",
       "      <td>[@/AmazonHelp]</td>\n",
       "    </tr>\n",
       "    <tr>\n",
       "      <th>2</th>\n",
       "      <td>Artis E400M in-Ear Headphones with Mic (Black)...</td>\n",
       "      <td>amazonindia</td>\n",
       "      <td>2019-01-20</td>\n",
       "      <td>[#AmazonIndia, #DealsOnElectronics]</td>\n",
       "    </tr>\n",
       "    <tr>\n",
       "      <th>3</th>\n",
       "      <td>@JeffBezos called Amazon India to report an in...</td>\n",
       "      <td>amazonindia</td>\n",
       "      <td>2019-01-20</td>\n",
       "      <td>[@AmazonHelp]</td>\n",
       "    </tr>\n",
       "    <tr>\n",
       "      <th>4</th>\n",
       "      <td>TP-Link HA100 NFC-Enabled Bluetooth Music Rece...</td>\n",
       "      <td>amazonindia</td>\n",
       "      <td>2019-01-20</td>\n",
       "      <td>[#AmazonIndia, #DealsOnPC]</td>\n",
       "    </tr>\n",
       "    <tr>\n",
       "      <th>...</th>\n",
       "      <td>...</td>\n",
       "      <td>...</td>\n",
       "      <td>...</td>\n",
       "      <td>...</td>\n",
       "    </tr>\n",
       "    <tr>\n",
       "      <th>45139</th>\n",
       "      <td>Murder. Corruption. Romance. Movie stars. A mo...</td>\n",
       "      <td>amazonindia</td>\n",
       "      <td>2019-12-27</td>\n",
       "      <td>[@SarahMallery1, #ASMSG, #amazonindia]</td>\n",
       "    </tr>\n",
       "    <tr>\n",
       "      <th>45140</th>\n",
       "      <td>Iball Cr24 Card Reader With 24 Types Of Memory...</td>\n",
       "      <td>amazonindia</td>\n",
       "      <td>2019-12-27</td>\n",
       "      <td>[#AmazonIndia, #DealsOnPC]</td>\n",
       "    </tr>\n",
       "    <tr>\n",
       "      <th>45141</th>\n",
       "      <td>Murder is on the itinerary! ★MURDER OVER MIAMI...</td>\n",
       "      <td>amazonindia</td>\n",
       "      <td>2019-12-27</td>\n",
       "      <td>[#ASMSG, #amazonindia]</td>\n",
       "    </tr>\n",
       "    <tr>\n",
       "      <th>45142</th>\n",
       "      <td>AmazonBasics 9 Volt Everyday Alkaline Batterie...</td>\n",
       "      <td>amazonindia</td>\n",
       "      <td>2019-12-27</td>\n",
       "      <td>[#AmazonIndia, #DealsOnElectronics]</td>\n",
       "    </tr>\n",
       "    <tr>\n",
       "      <th>45143</th>\n",
       "      <td>Bose Soundsport Wireless Headphone, Citron [20...</td>\n",
       "      <td>amazonindia</td>\n",
       "      <td>2019-12-27</td>\n",
       "      <td>[#AmazonIndia, #DealsOnElectronics]</td>\n",
       "    </tr>\n",
       "  </tbody>\n",
       "</table>\n",
       "<p>45144 rows × 4 columns</p>\n",
       "</div>"
      ],
      "text/plain": [
       "                                                   tweet         word  \\\n",
       "0      Logitech Prodigy G213 Gaming Keyboard [50% dis...  amazonindia   \n",
       "1      Can you guys (whoever's reading this) dm @/Ama...  amazonindia   \n",
       "2      Artis E400M in-Ear Headphones with Mic (Black)...  amazonindia   \n",
       "3      @JeffBezos called Amazon India to report an in...  amazonindia   \n",
       "4      TP-Link HA100 NFC-Enabled Bluetooth Music Rece...  amazonindia   \n",
       "...                                                  ...          ...   \n",
       "45139  Murder. Corruption. Romance. Movie stars. A mo...  amazonindia   \n",
       "45140  Iball Cr24 Card Reader With 24 Types Of Memory...  amazonindia   \n",
       "45141  Murder is on the itinerary! ★MURDER OVER MIAMI...  amazonindia   \n",
       "45142  AmazonBasics 9 Volt Everyday Alkaline Batterie...  amazonindia   \n",
       "45143  Bose Soundsport Wireless Headphone, Citron [20...  amazonindia   \n",
       "\n",
       "             Date                                mentions  \n",
       "0      2019-01-20              [#AmazonIndia, #DealsOnPC]  \n",
       "1      2019-01-20                          [@/AmazonHelp]  \n",
       "2      2019-01-20     [#AmazonIndia, #DealsOnElectronics]  \n",
       "3      2019-01-20                           [@AmazonHelp]  \n",
       "4      2019-01-20              [#AmazonIndia, #DealsOnPC]  \n",
       "...           ...                                     ...  \n",
       "45139  2019-12-27  [@SarahMallery1, #ASMSG, #amazonindia]  \n",
       "45140  2019-12-27              [#AmazonIndia, #DealsOnPC]  \n",
       "45141  2019-12-27                  [#ASMSG, #amazonindia]  \n",
       "45142  2019-12-27     [#AmazonIndia, #DealsOnElectronics]  \n",
       "45143  2019-12-27     [#AmazonIndia, #DealsOnElectronics]  \n",
       "\n",
       "[45144 rows x 4 columns]"
      ]
     },
     "execution_count": 104,
     "metadata": {},
     "output_type": "execute_result"
    }
   ],
   "source": [
    "data"
   ]
  },
  {
   "cell_type": "code",
   "execution_count": 89,
   "metadata": {},
   "outputs": [
    {
     "name": "stdout",
     "output_type": "stream",
     "text": [
      "['#onlineshopping', '#Marketing', '#ecommerce']\n"
     ]
    }
   ],
   "source": []
  },
  {
   "cell_type": "code",
   "execution_count": null,
   "metadata": {},
   "outputs": [],
   "source": []
  }
 ],
 "metadata": {
  "kernelspec": {
   "display_name": "Python 3",
   "language": "python",
   "name": "python3"
  },
  "language_info": {
   "codemirror_mode": {
    "name": "ipython",
    "version": 3
   },
   "file_extension": ".py",
   "mimetype": "text/x-python",
   "name": "python",
   "nbconvert_exporter": "python",
   "pygments_lexer": "ipython3",
   "version": "3.7.6"
  }
 },
 "nbformat": 4,
 "nbformat_minor": 4
}
